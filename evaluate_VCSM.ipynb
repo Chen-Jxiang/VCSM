{
 "cells": [
  {
   "cell_type": "code",
   "execution_count": 3,
   "id": "99313ddb",
   "metadata": {
    "scrolled": true
   },
   "outputs": [],
   "source": [
    "import sys\n",
    "sys.path.append(\"./src\")\n",
    "import VCSM\n",
    "import SKCM_dataset\n",
    "\n",
    "\n",
    "import numpy as np\n",
    "from matplotlib import pyplot as plt\n",
    "\n",
    "from sksurv.linear_model import CoxPHSurvivalAnalysis\n",
    "from sksurv.ensemble import RandomSurvivalForest\n",
    "from sksurv.ensemble import GradientBoostingSurvivalAnalysis\n",
    "\n",
    "from mvlearn.embed import MCCA\n",
    "\n",
    "from lifelines.utils import concordance_index\n",
    "from monai.networks.nets import FullyConnectedNet\n",
    "\n",
    "from torch import optim\n",
    "import torch\n",
    "from torch import Tensor"
   ]
  },
  {
   "cell_type": "code",
   "execution_count": 4,
   "id": "c8261f3d",
   "metadata": {},
   "outputs": [
    {
     "name": "stdout",
     "output_type": "stream",
     "text": [
      "seed 0, Concordance Score: 0.448\n",
      "seed 1, Concordance Score: 0.64\n",
      "seed 2, Concordance Score: 0.765\n",
      "seed 3, Concordance Score: 0.862\n",
      "seed 4, Concordance Score: 0.8\n",
      "seed 5, Concordance Score: 0.885\n",
      "seed 6, Concordance Score: 0.852\n",
      "seed 7, Concordance Score: 0.778\n",
      "seed 8, Concordance Score: 0.765\n",
      "seed 9, Concordance Score: 0.667\n",
      "\n",
      "Corcordance Score: 0.746 (0.124)\n"
     ]
    }
   ],
   "source": [
    "lr = 1e-4\n",
    "encoder_layer = [128, 64, 32]\n",
    "predictor_layer = []\n",
    "alpha = 0.\n",
    "beta = 10.\n",
    "gamma1 = 0.\n",
    "gamma2 = 0.\n",
    "top_K_img = 250\n",
    "top_K_RNA = 500\n",
    "top_K_meth = 500\n",
    "top_K_miRNA = 50\n",
    "\n",
    "C_idx = []\n",
    "\n",
    "for seed in range(10):    \n",
    "    X_train, D_train, E_train, X_test, D_test, E_test = SKCM_dataset.load_data(\n",
    "    seed = seed, \n",
    "    top_K_img = top_K_img, top_K_RNA = top_K_RNA, top_K_meth = top_K_meth, top_K_miRNA = top_K_miRNA)\n",
    "\n",
    "    X_test = [XXX.cuda() for XXX in X_test]\n",
    "    \n",
    "    filename = \"./models/VCSM_{}_{}_{}_{}_{}_{}_{}_{}_{}_{}_{}_{}\".format(\n",
    "        encoder_layer, predictor_layer, alpha, beta, gamma1, gamma2, \n",
    "        lr, top_K_img, top_K_RNA, top_K_meth, top_K_miRNA, seed)\n",
    "\n",
    "    \n",
    "    model = VCSM.CoxModel(\n",
    "        D_dat=[x.shape[1] for x in X_train], \n",
    "        encoder_var_layer=encoder_layer, decoder_layer=predictor_layer,\n",
    "        N_validate=1, alpha=alpha, beta=beta, gamma1=gamma1, gamma2=gamma2,\n",
    "        filename=filename,\n",
    "        silent=True, \n",
    "        lr=lr\n",
    "        ).cuda()\n",
    "\n",
    "    model.load_state_dict(torch.load(filename, weights_only = True))\n",
    "    model.eval()\n",
    "\n",
    "\n",
    "    C = model.compute_C(X_test, D_test, E_test)\n",
    "    print(\"seed {}, Concordance Score: {:.3}\".format(seed, C))\n",
    "    C_idx.append(C)\n",
    "\n",
    "print(\"\\nCorcordance Score: {:.3} ({:.3})\".format( np.mean(C_idx), np.std(C_idx) ))"
   ]
  },
  {
   "cell_type": "code",
   "execution_count": null,
   "id": "615709e6-eeaf-47a7-92b1-73e163895819",
   "metadata": {},
   "outputs": [],
   "source": []
  }
 ],
 "metadata": {
  "kernelspec": {
   "display_name": "Python 3 (ipykernel)",
   "language": "python",
   "name": "python3"
  },
  "language_info": {
   "codemirror_mode": {
    "name": "ipython",
    "version": 3
   },
   "file_extension": ".py",
   "mimetype": "text/x-python",
   "name": "python",
   "nbconvert_exporter": "python",
   "pygments_lexer": "ipython3",
   "version": "3.11.0"
  }
 },
 "nbformat": 4,
 "nbformat_minor": 5
}
